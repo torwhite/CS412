{
 "cells": [
  {
   "cell_type": "markdown",
   "id": "1b208036-dc85-4066-964b-cff06a5b7884",
   "metadata": {},
   "source": [
    "## 2.1"
   ]
  },
  {
   "cell_type": "code",
   "execution_count": 1,
   "id": "227c3d0b-eeca-4239-bdae-897fd18b1d45",
   "metadata": {},
   "outputs": [],
   "source": [
    "import numpy as np\n",
    "import scipy.stats\n",
    "np.random.seed(1)"
   ]
  },
  {
   "cell_type": "code",
   "execution_count": 2,
   "id": "33a6a53b-d7b1-4874-9d8a-9009ae0e65c0",
   "metadata": {},
   "outputs": [],
   "source": [
    "x = np.random.random_sample(3)\n",
    "#x = [1,1,1]\n",
    "mu = 0\n",
    "sigma = 1"
   ]
  },
  {
   "cell_type": "code",
   "execution_count": 7,
   "id": "a834de82-e6f3-4940-8ecf-61e8efd200d1",
   "metadata": {},
   "outputs": [
    {
     "name": "stdout",
     "output_type": "stream",
     "text": [
      "0.3657181919865185\n",
      "0.3077793277524004\n",
      "0.3989422777920313\n"
     ]
    }
   ],
   "source": [
    "for xi in x:\n",
    "    sec_num = (xi - mu)**2\n",
    "    sec_denom = 2*(sigma**2)\n",
    "    exp = -(sec_num/sec_denom)\n",
    "    second = np.exp(exp)\n",
    "    first = 1 / (np.sqrt(2*np.pi*sigma**2))\n",
    "    \n",
    "    print(first * second)\n"
   ]
  },
  {
   "cell_type": "code",
   "execution_count": 8,
   "id": "e24904c7-1221-4dcb-852f-d7f71fb6e205",
   "metadata": {},
   "outputs": [
    {
     "name": "stdout",
     "output_type": "stream",
     "text": [
      "[0.36571819 0.30777933 0.39894228]\n"
     ]
    }
   ],
   "source": [
    "#ref density\n",
    "\n",
    "ref_density = scipy.stats.norm(mu, sigma).pdf(x)\n",
    "print(ref_density)"
   ]
  },
  {
   "cell_type": "markdown",
   "id": "1a9a1b37-472c-4e18-8852-9e4a55d4f126",
   "metadata": {},
   "source": [
    "## 2.2 \n"
   ]
  },
  {
   "cell_type": "code",
   "execution_count": 10,
   "id": "e894f780-18a4-416c-b52b-b315e009cd48",
   "metadata": {},
   "outputs": [],
   "source": [
    "np.random.seed(1)\n",
    "sigma = 2\n",
    "priorMean, priorStd = (-1, 2)\n",
    "x = np.array([1, 2, 3])\n"
   ]
  },
  {
   "cell_type": "code",
   "execution_count": 34,
   "id": "b1d226cd-14d0-4605-8c20-5f3d9d28fd3c",
   "metadata": {},
   "outputs": [
    {
     "name": "stdout",
     "output_type": "stream",
     "text": [
      "1.25\n"
     ]
    }
   ],
   "source": [
    "# First half\n",
    "\n",
    "#num = len(x)/ sigma \n",
    "#denom = (len(x)/sigma) + (1/priorStd)\n",
    "#m = sum(x) /len(x)\n",
    "\n",
    "firsthalf = ((len(x)/ sigma)/((len(x)/sigma) + (1/priorStd)) ) * (sum(x) /len(x))\n",
    "\n",
    "# second half\n",
    "\n",
    "num = 1/priorStd \n",
    "denom = (len(x) / sigma) + (1/priorStd)\n",
    "\n",
    "secondhalf = ((1/priorStd )/ ((len(x) / sigma) + (1/priorStd))) * priorMean\n",
    "\n",
    "full = firsthalf + secondhalf\n",
    "print(full)"
   ]
  },
  {
   "cell_type": "markdown",
   "id": "83690f59-c778-4382-916e-a819b219f89b",
   "metadata": {},
   "source": [
    "## 2.3"
   ]
  },
  {
   "cell_type": "code",
   "execution_count": null,
   "id": "5bf37c5f-1d24-415b-9e38-fe837306c206",
   "metadata": {},
   "outputs": [],
   "source": []
  }
 ],
 "metadata": {
  "kernelspec": {
   "display_name": "Python 3 (ipykernel)",
   "language": "python",
   "name": "python3"
  },
  "language_info": {
   "codemirror_mode": {
    "name": "ipython",
    "version": 3
   },
   "file_extension": ".py",
   "mimetype": "text/x-python",
   "name": "python",
   "nbconvert_exporter": "python",
   "pygments_lexer": "ipython3",
   "version": "3.9.13"
  }
 },
 "nbformat": 4,
 "nbformat_minor": 5
}
