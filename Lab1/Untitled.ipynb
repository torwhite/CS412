{
 "cells": [
  {
   "cell_type": "code",
   "execution_count": 181,
   "id": "e03a25b2-ff7f-47af-908f-fc085573f261",
   "metadata": {},
   "outputs": [],
   "source": [
    "%matplotlib inline\n",
    "import numpy as np\n",
    "import matplotlib.pyplot as plt\n",
    "\n",
    "np.random.seed(1)"
   ]
  },
  {
   "cell_type": "code",
   "execution_count": 24,
   "id": "897ace66-dde3-4bd3-8b07-f6c9e2b6e3d2",
   "metadata": {},
   "outputs": [
    {
     "name": "stdout",
     "output_type": "stream",
     "text": [
      "[ 1  5 12  9 10 13]\n"
     ]
    }
   ],
   "source": [
    "# vector p\n",
    "listp = [0.05, 0.1, 0.15, 0.2, 0.25, 0.25]\n",
    "p = np.array(listp)\n",
    "\n",
    "out = np.random.multinomial(50,p)\n",
    "print(out)"
   ]
  },
  {
   "cell_type": "code",
   "execution_count": 34,
   "id": "3786e301-baf2-456d-8cfd-51d7d9b0576e",
   "metadata": {},
   "outputs": [
    {
     "name": "stdout",
     "output_type": "stream",
     "text": [
      "[0.02, 0.1, 0.24, 0.18, 0.2, 0.26]\n"
     ]
    }
   ],
   "source": [
    "outp = []\n",
    "for i in out:\n",
    "    outp.append(i/50)\n",
    "\n",
    "print(outp)"
   ]
  },
  {
   "cell_type": "code",
   "execution_count": 50,
   "id": "76cba7af-aee4-4e49-a381-914bdab690d6",
   "metadata": {},
   "outputs": [
    {
     "name": "stdout",
     "output_type": "stream",
     "text": [
      "[[0.    0.    0.2   0.3   0.2   0.3  ]\n",
      " [0.025 0.225 0.15  0.15  0.225 0.225]\n",
      " [0.06  0.12  0.12  0.12  0.3   0.28 ]]\n"
     ]
    }
   ],
   "source": [
    "m = len(nSample)\n",
    "k = len(p)\n",
    "ProbEst = np.empty([m, k], dtype=float)\n",
    "nSample = [10,40,50]\n",
    "i = 0\n",
    "\n",
    "for n in nSample:\n",
    "    out = []\n",
    "    #out.append(np.random.multinomial(n, p)/n)\n",
    "    ProbEst[i] = np.random.multinomial(n, p)/n\n",
    "    i+= 1\n",
    "\n",
    "print(ProbEst)\n",
    "    \n",
    "        "
   ]
  },
  {
   "cell_type": "code",
   "execution_count": null,
   "id": "6ead7554-4430-4091-a0f3-e6f4286b72d5",
   "metadata": {},
   "outputs": [],
   "source": [
    "def estimate(p, nSample):\n",
    "  \"\"\"\n",
    "  Estimate the value of p by drawing samples with varying number of cast\n",
    "  Input:\n",
    "    - p:    a 1-D numpy array of size k (number of events), \n",
    "            encoding the probability of each of the k outcomes\n",
    "    - nSample: a 1-D numpy array of size m specifying the sample sizes.\n",
    "            Effectively, we run m number of experiments,\n",
    "            with each experiment drawing nSample[j] number of samples (j=0,...,m-1)\n",
    "  Outputs:\n",
    "    - ProbEst: an m-by-k matrix (2-D numpy array), \n",
    "                whose j-th row (j >= 0) encodes the probability estimate \n",
    "                for the k events based on nSample[j] number of samples\n",
    "  \"\"\"  \n",
    "\n",
    "  np.random.seed(1)\n",
    "  k = p.size\n",
    "  m = nSample.size\n",
    "  ProbEst = np.empty([m, k], dtype=float)\n",
    "  # *****START OF YOUR CODE (DO NOT DELETE/MODIFY THIS LINE)*****\n",
    "  i = 0\n",
    "  for n in nSample:\n",
    "    ProbEst[i] = np.random.multinomial(n, p)/n\n",
    "    i+= 1\n",
    "  # *****END OF YOUR CODE (DO NOT DELETE/MODIFY THIS LINE)*****\n",
    "  return ProbEst\n",
    "\n",
    "\"\"\"\n",
    "Unit test case below\n",
    "You should get the following results:\n",
    "[[0.         0.2        0.         0.2        0.4        0.2       ]\n",
    " [0.         0.05       0.15       0.2        0.3        0.3       ]\n",
    " [0.03333333 0.13333333 0.1        0.3        0.33333333 0.1       ]]\n",
    "\"\"\"\n",
    "p = np.array([0.05, 0.1, 0.15, 0.2, 0.25, 0.25])\n",
    "nSample = np.arange(10, 40, 10)\n",
    "ProbEst = estimate(p, nSample)\n",
    "print(ProbEst)"
   ]
  },
  {
   "cell_type": "code",
   "execution_count": 52,
   "id": "256d25e6-1acd-4c85-8afd-e2cb0227b83a",
   "metadata": {},
   "outputs": [
    {
     "data": {
      "text/plain": [
       "100.0"
      ]
     },
     "execution_count": 52,
     "metadata": {},
     "output_type": "execute_result"
    }
   ],
   "source": [
    "1000%10\n",
    "1000/100.\n",
    "\n"
   ]
  },
  {
   "cell_type": "code",
   "execution_count": 65,
   "id": "61e1d7c7-c54f-455e-a3bb-de4a811f454d",
   "metadata": {},
   "outputs": [
    {
     "name": "stdout",
     "output_type": "stream",
     "text": [
      "10\n"
     ]
    },
    {
     "data": {
      "text/plain": [
       "100"
      ]
     },
     "execution_count": 65,
     "metadata": {},
     "output_type": "execute_result"
    }
   ],
   "source": [
    "np.random.seed(1)\n",
    "\n",
    "  # *****START OF YOUR CODE (DO NOT DELETE/MODIFY THIS LINE)*****\n",
    "nSample_start = 10\n",
    "nSample_end = 1000\n",
    "k = p.size\n",
    "nSample = np.arange(nSample_start, nSample_end+1, nSample_end/nSample_start)\n",
    "m = nSample.size\n",
    "print(nSample.size)\n",
    "  #ProbEst = np.empty([m, k], dtype=float)\n",
    "  # *****START OF YOUR CODE (DO NOT DELETE/MODIFY THIS LINE)*****\n",
    "  #i = 0\n",
    "  #for n in nSample:\n",
    "    #ProbEst[i] = np.random.multinomial(n, p)/n\n",
    "    #i+= 1\n",
    "  # *****END OF YOUR CODE (DO NOT DELETE/MODIFY THIS LINE)*****\n",
    "  #return ProbEst\n",
    "  \n",
    " \n",
    "\n",
    "  # *****END OF YOUR CODE (DO NOT DELETE/MODIFY THIS LINE)*****\n",
    "  #return ProbEst\n",
    "\n",
    "p = np.array([0.05, 0.1, 0.15, 0.2, 0.25, 0.25])\n",
    "#probEst_eff = estimate_efficient(p, 10, 30)\n",
    "#print(probEst_eff)\n",
    "\n",
    "int(nSample_end/nSample_start)"
   ]
  },
  {
   "cell_type": "code",
   "execution_count": 99,
   "id": "e6050422-21c0-426f-8099-93421aa6093f",
   "metadata": {},
   "outputs": [
    {
     "name": "stdout",
     "output_type": "stream",
     "text": [
      "100\n",
      "[[0.         0.1        0.2        0.4        0.2        0.1       ]\n",
      " [0.         0.15       0.2        0.3        0.25       0.1       ]\n",
      " [0.03333333 0.1        0.16666667 0.23333333 0.26666667 0.2       ]\n",
      " [0.05       0.1        0.125      0.2        0.325      0.2       ]\n",
      " [0.04       0.1        0.1        0.18       0.28       0.3       ]\n",
      " [0.03333333 0.1        0.11666667 0.2        0.28333333 0.26666667]\n",
      " [0.02857143 0.11428571 0.11428571 0.21428571 0.25714286 0.27142857]\n",
      " [0.025      0.1        0.1375     0.225      0.25       0.2625    ]\n",
      " [0.02222222 0.1        0.13333333 0.22222222 0.25555556 0.26666667]\n",
      " [0.02       0.11       0.12       0.22       0.25       0.28      ]\n",
      " [0.01818182 0.11818182 0.11818182 0.24545455 0.22727273 0.27272727]\n",
      " [0.01666667 0.11666667 0.13333333 0.23333333 0.225      0.275     ]\n",
      " [0.01538462 0.10769231 0.13076923 0.23076923 0.23076923 0.28461538]\n",
      " [0.02857143 0.10714286 0.12857143 0.22857143 0.23571429 0.27142857]\n",
      " [0.02666667 0.1        0.13333333 0.23333333 0.24       0.26666667]\n",
      " [0.025      0.09375    0.13125    0.23125    0.2375     0.28125   ]\n",
      " [0.02352941 0.08823529 0.12941176 0.23529412 0.25294118 0.27058824]\n",
      " [0.02222222 0.09444444 0.13333333 0.22777778 0.26111111 0.26111111]\n",
      " [0.02105263 0.08947368 0.13684211 0.22631579 0.25789474 0.26842105]\n",
      " [0.02       0.09       0.14       0.22       0.26       0.27      ]\n",
      " [0.01904762 0.08571429 0.14285714 0.22857143 0.26190476 0.26190476]\n",
      " [0.01818182 0.08636364 0.15       0.22727273 0.26818182 0.25      ]\n",
      " [0.0173913  0.08695652 0.15217391 0.22608696 0.27391304 0.24347826]\n",
      " [0.02083333 0.0875     0.15416667 0.22083333 0.26666667 0.25      ]\n",
      " [0.02       0.092      0.148      0.224      0.26       0.256     ]\n",
      " [0.02307692 0.09615385 0.14230769 0.21923077 0.26538462 0.25384615]\n",
      " [0.02592593 0.0962963  0.14814815 0.21481481 0.26666667 0.24814815]\n",
      " [0.03214286 0.09642857 0.15       0.21428571 0.26428571 0.24285714]\n",
      " [0.03448276 0.10344828 0.15517241 0.20689655 0.25517241 0.24482759]\n",
      " [0.03333333 0.11       0.15       0.20666667 0.25       0.25      ]\n",
      " [0.03548387 0.10967742 0.1483871  0.20645161 0.2483871  0.2516129 ]\n",
      " [0.034375   0.109375   0.15       0.209375   0.24375    0.253125  ]\n",
      " [0.03636364 0.10606061 0.14545455 0.21515152 0.24242424 0.25454545]\n",
      " [0.03529412 0.10294118 0.14411765 0.22058824 0.23529412 0.26176471]\n",
      " [0.03714286 0.10571429 0.14       0.22285714 0.23428571 0.26      ]\n",
      " [0.03611111 0.10555556 0.14722222 0.21666667 0.23611111 0.25833333]\n",
      " [0.03513514 0.10540541 0.14594595 0.21351351 0.23783784 0.26216216]\n",
      " [0.03684211 0.10526316 0.14210526 0.20789474 0.24210526 0.26578947]\n",
      " [0.03589744 0.10512821 0.14102564 0.20769231 0.24358974 0.26666667]\n",
      " [0.04       0.1025     0.145      0.205      0.245      0.2625    ]\n",
      " [0.03902439 0.10487805 0.14146341 0.20243902 0.24634146 0.26585366]\n",
      " [0.03809524 0.1047619  0.1452381  0.2        0.24761905 0.26428571]\n",
      " [0.0372093  0.10232558 0.14651163 0.19767442 0.24651163 0.26976744]\n",
      " [0.03636364 0.10454545 0.14772727 0.2        0.24772727 0.26363636]\n",
      " [0.03555556 0.10444444 0.14666667 0.2        0.25333333 0.26      ]\n",
      " [0.03478261 0.10869565 0.14347826 0.20217391 0.25       0.26086957]\n",
      " [0.03404255 0.10851064 0.14255319 0.20425532 0.25106383 0.25957447]\n",
      " [0.03333333 0.11041667 0.14166667 0.20416667 0.24791667 0.2625    ]\n",
      " [0.03673469 0.11428571 0.14285714 0.2        0.24693878 0.25918367]\n",
      " [0.036      0.112      0.14       0.2        0.246      0.266     ]\n",
      " [0.03529412 0.10980392 0.13921569 0.20196078 0.24705882 0.26666667]\n",
      " [0.03653846 0.10961538 0.14230769 0.2        0.24615385 0.26538462]\n",
      " [0.03773585 0.10754717 0.14150943 0.19811321 0.24716981 0.26792453]\n",
      " [0.03888889 0.10555556 0.14074074 0.2        0.2462963  0.26851852]\n",
      " [0.03818182 0.10545455 0.14181818 0.19636364 0.24363636 0.27454545]\n",
      " [0.04107143 0.10357143 0.14107143 0.19642857 0.24285714 0.275     ]\n",
      " [0.04035088 0.10526316 0.14210526 0.19298246 0.24210526 0.27719298]\n",
      " [0.03965517 0.10344828 0.14137931 0.19137931 0.24655172 0.27758621]\n",
      " [0.03898305 0.10677966 0.14237288 0.18813559 0.2440678  0.27966102]\n",
      " [0.03833333 0.105      0.14166667 0.19       0.245      0.28      ]\n",
      " [0.03934426 0.10327869 0.14098361 0.19016393 0.2442623  0.28196721]\n",
      " [0.03870968 0.10483871 0.14032258 0.19354839 0.24354839 0.27903226]\n",
      " [0.03809524 0.1047619  0.14126984 0.19206349 0.24444444 0.27936508]\n",
      " [0.0390625  0.103125   0.1421875  0.19375    0.2421875  0.2796875 ]\n",
      " [0.03846154 0.10307692 0.14307692 0.19230769 0.24615385 0.27692308]\n",
      " [0.03939394 0.10151515 0.14393939 0.19242424 0.2469697  0.27575758]\n",
      " [0.03880597 0.10298507 0.14328358 0.19253731 0.24328358 0.27910448]\n",
      " [0.03823529 0.10294118 0.14117647 0.19264706 0.24705882 0.27794118]\n",
      " [0.03768116 0.10289855 0.13913043 0.19275362 0.24782609 0.27971014]\n",
      " [0.03857143 0.10142857 0.13857143 0.19428571 0.24714286 0.28      ]\n",
      " [0.03802817 0.10140845 0.13661972 0.1943662  0.24647887 0.28309859]\n",
      " [0.0375     0.10138889 0.13611111 0.19166667 0.24861111 0.28472222]\n",
      " [0.0369863  0.10273973 0.1369863  0.19178082 0.24657534 0.28493151]\n",
      " [0.03648649 0.10405405 0.13648649 0.19189189 0.24864865 0.28243243]\n",
      " [0.03733333 0.104      0.136      0.19066667 0.24933333 0.28266667]\n",
      " [0.03684211 0.10394737 0.13684211 0.18815789 0.25131579 0.28289474]\n",
      " [0.03766234 0.1025974  0.13766234 0.18831169 0.24935065 0.28441558]\n",
      " [0.03717949 0.10384615 0.13717949 0.18974359 0.25128205 0.28076923]\n",
      " [0.03670886 0.10379747 0.13670886 0.19240506 0.24936709 0.28101266]\n",
      " [0.0375     0.10375    0.13625    0.1925     0.24875    0.28125   ]\n",
      " [0.0382716  0.10246914 0.13580247 0.19753086 0.24691358 0.27901235]\n",
      " [0.03902439 0.10243902 0.13658537 0.19634146 0.24512195 0.2804878 ]\n",
      " [0.03855422 0.10240964 0.13493976 0.1939759  0.24819277 0.28192771]\n",
      " [0.04047619 0.10119048 0.13452381 0.19166667 0.24880952 0.28333333]\n",
      " [0.04117647 0.10235294 0.13411765 0.18941176 0.25176471 0.28117647]\n",
      " [0.04186047 0.10232558 0.13604651 0.19069767 0.25       0.27906977]\n",
      " [0.04252874 0.10229885 0.13563218 0.18965517 0.25172414 0.27816092]\n",
      " [0.04204545 0.10113636 0.1375     0.18977273 0.25113636 0.27840909]\n",
      " [0.04269663 0.10224719 0.13932584 0.18876404 0.24831461 0.27865169]\n",
      " [0.04333333 0.10111111 0.14333333 0.18888889 0.24666667 0.27666667]\n",
      " [0.04285714 0.1032967  0.14285714 0.18901099 0.24835165 0.27362637]\n",
      " [0.04347826 0.10326087 0.14347826 0.18695652 0.24891304 0.27391304]\n",
      " [0.04301075 0.10322581 0.14301075 0.19247312 0.24731183 0.27096774]\n",
      " [0.04255319 0.10212766 0.14574468 0.19042553 0.24787234 0.2712766 ]\n",
      " [0.04315789 0.10105263 0.14736842 0.18842105 0.24947368 0.27052632]\n",
      " [0.04270833 0.10104167 0.14791667 0.18958333 0.24791667 0.27083333]\n",
      " [0.04226804 0.10103093 0.14639175 0.19175258 0.24845361 0.27010309]\n",
      " [0.04183673 0.10102041 0.14489796 0.19183673 0.25204082 0.26836735]\n",
      " [0.04141414 0.1020202  0.14545455 0.19090909 0.25252525 0.26767677]\n",
      " [0.041      0.101      0.145      0.19       0.255      0.268     ]]\n"
     ]
    }
   ],
   "source": [
    "p = np.array([0.05, 0.1, 0.15, 0.2, 0.25, 0.25])\n",
    "nSample_start = 10\n",
    "nSample_end = 1000\n",
    "k = p.size\n",
    "m = int(nSample_end/nSample_start)\n",
    "ProbEst = np.empty([m, k], dtype=float)\n",
    "\n",
    "outcomes = np.random.multinomial(nSample_start, p, m)\n",
    "\n",
    "cum_out = cum_outcomes = np.cumsum(outcomes, axis = 0)\n",
    "\n",
    "\n",
    "i = nSample_start\n",
    "\n",
    "for n in range(m):\n",
    "    ProbEst[n] = cum_out[n]/i\n",
    "    i += nSample_start\n",
    "    \n",
    "print(ProbEst)\n"
   ]
  },
  {
   "cell_type": "code",
   "execution_count": 102,
   "id": "4eed5d99-dece-4dba-bf8f-c10bf3defa38",
   "metadata": {},
   "outputs": [
    {
     "name": "stdout",
     "output_type": "stream",
     "text": [
      "[0.99 3.12 4.47 4.51]\n",
      "[0.63124216 2.26128282 1.34553583 3.70492465]\n",
      "12\n"
     ]
    }
   ],
   "source": [
    "X = np.array([[1.30,2.21,3.23,4.12], [1.56, 6.23, 6.34, 9.23], [0.11, 0.92, 3.84, 0.18]])\n",
    "\n",
    "X_mean = X.mean(0)\n",
    "X_std = X.std(0)\n",
    "print(X_mean)\n",
    "print(X_std)\n",
    "print(X.size)"
   ]
  },
  {
   "cell_type": "code",
   "execution_count": 179,
   "id": "2423addd-9dc4-42ed-944b-939c6721e2b3",
   "metadata": {},
   "outputs": [
    {
     "name": "stdout",
     "output_type": "stream",
     "text": [
      "73.0\n"
     ]
    }
   ],
   "source": [
    "#2.2.1\n",
    "X = np.array([[2.0, 1.0, 3.0], [3.0, 6.0, 2.0]])\n",
    "y =  np.array([1.0, 1.0])\n",
    "theta = np.array([1.0, 2.0,1.0])\n",
    "m = X.size\n",
    "\n",
    "oT = np.transpose(theta) \n",
    "\n",
    "np.dot(X, oT)\n",
    "\n",
    "print(sum(((np.dot(X, oT)-y)**2))/4)\n",
    "\n"
   ]
  },
  {
   "cell_type": "markdown",
   "id": "69d34d41-1daf-4c22-a314-10b742431db4",
   "metadata": {},
   "source": [
    "# Gradient\n",
    "\n",
    "$\\frac{X(X^{T}\\Theta)}{m} - \\frac{X^{T}y}{m}$"
   ]
  },
  {
   "cell_type": "code",
   "execution_count": 260,
   "id": "c3bd49d1-9068-446f-bbe6-f9afa4c376dc",
   "metadata": {},
   "outputs": [
    {
     "data": {
      "text/plain": [
       "array([30., 51., 25.])"
      ]
     },
     "execution_count": 260,
     "metadata": {},
     "output_type": "execute_result"
    }
   ],
   "source": [
    "#gradient\n",
    "\n",
    "\n",
    "X = np.array([[2.0, 1.0, 3.0], [3.0, 6.0, 2.0]])\n",
    "y =  np.array([1.0, 1.0])\n",
    "theta = np.array([1.0, 2.0,1.0])\n",
    "m = len(X)\n",
    "\n",
    "transX = np.transpose(X)\n",
    "xTtheta = np.dot(theta, transX)\n",
    "\n",
    "p1 = (np.dot( xTtheta, X))/m\n",
    "\n",
    "p2 = (np.dot(transX, y))/m\n",
    "\n",
    "\n",
    "((np.dot( np.dot(theta, np.transpose(X)), X))/m) - ((np.dot(np.transpose(X), y))/m)\n",
    "\n"
   ]
  },
  {
   "cell_type": "markdown",
   "id": "20c47aa4-cd70-4091-b939-c96894bab25b",
   "metadata": {},
   "source": [
    "# Gradient descent\n",
    "$$\n",
    "\\theta = \\theta - \\alpha\\frac{X(X^{T}\\Theta)}{m} - \\frac{X^{T}y}{m}\n",
    "$$\n"
   ]
  },
  {
   "cell_type": "code",
   "execution_count": 286,
   "id": "32d20c81-8312-45d9-b031-8e0683b10828",
   "metadata": {},
   "outputs": [
    {
     "name": "stdout",
     "output_type": "stream",
     "text": [
      "[0.4855 1.1231 0.5725] 19.365590642499996\n"
     ]
    }
   ],
   "source": [
    "# find theta & Loss_record both 1x3 matrices\n",
    "\n",
    "X = np.array([[2.0, 1.0, 3.0], [3.0, 6.0, 2.0]])\n",
    "y =  np.array([1.0, 1.0])\n",
    "theta = np.array([1.0, 2.0, 1.0])\n",
    "alpha = 0.01\n",
    "num_iters = 3\n",
    "m = len(X)\n",
    "\n",
    "#Iter #1\n",
    "theta = theta - (alpha*(((np.dot( np.dot(theta, np.transpose(X)), X))/m) - ((np.dot(np.transpose(X), y))/m)))\n",
    "Loss_record = error = sum(((np.dot(X, np.transpose(theta))-y)**2))/(m*2)\n",
    "\n",
    "\n",
    "#Iter #2\n",
    "theta = theta - (alpha*(((np.dot( np.dot(theta, np.transpose(X)), X))/m) - ((np.dot(np.transpose(X), y))/m)))\n",
    "Loss_record = error = sum(((np.dot(X, np.transpose(theta))-y)**2))/(m*2)\n",
    "print(theta, Loss_record)\n",
    "\n",
    "\n",
    "#def gradientDescent(X, y, theta, alpha, num_iters):\n",
    "#    for i in range(num_iters):\n",
    "#        Loss_record  = ((np.dot( np.dot(theta, np.transpose(X)), X))/m) - ((np.dot(np.transpose(X), y))/m)\n",
    "#        theta = theta - (alpha*(((np.dot( np.dot(theta, np.transpose(X)), X))/m) - ((np.dot(np.transpose(X), y))/m)))\n",
    "#        \n",
    "#    return theta, Loss_record  \n",
    "\n",
    "\n",
    "#gradientDescent(X,y, theta, alpha, num_iters)\n"
   ]
  },
  {
   "cell_type": "code",
   "execution_count": 303,
   "id": "096394f1-6416-4860-b869-d0eb0a664ed1",
   "metadata": {},
   "outputs": [
    {
     "data": {
      "text/plain": [
       "(3,)"
      ]
     },
     "execution_count": 303,
     "metadata": {},
     "output_type": "execute_result"
    }
   ],
   "source": [
    "ones = np.array([0,0,0])\n",
    "\n",
    "#num_row, num_col = ones.shape\n",
    "\n",
    "ones.shape\n",
    "\n"
   ]
  },
  {
   "cell_type": "code",
   "execution_count": 304,
   "id": "3a0c0b6d-e086-4c9b-a43d-63697e4a8194",
   "metadata": {},
   "outputs": [
    {
     "data": {
      "text/plain": [
       "4"
      ]
     },
     "execution_count": 304,
     "metadata": {},
     "output_type": "execute_result"
    }
   ],
   "source": [
    "learning_rates = [1.0, 0.1, 0.01, 0.001]\n",
    "len(learning_rates)\n"
   ]
  },
  {
   "cell_type": "code",
   "execution_count": 312,
   "id": "2e5388c3-5ceb-415b-af15-d6efccad5cc4",
   "metadata": {},
   "outputs": [
    {
     "name": "stdout",
     "output_type": "stream",
     "text": [
      "[6. 7. 3.]\n"
     ]
    }
   ],
   "source": [
    "X = np.array([[2.0, 1.0, 3.0], [3.0, 6.0, 2.0], [-1, 0, 2.0]])\n",
    "y = np.array([1.0, 1.0, -1.0])\n",
    "\n",
    "XT = np.transpose(X)\n",
    "\n",
    "XTy = np.dot(XT,y)\n",
    "\n",
    "theta = np.dot((np.dot(np.linalg.inv(X),XTy)), np.linalg.inv(XT)) \n",
    "\n",
    "\n",
    "print(XTy)"
   ]
  },
  {
   "cell_type": "code",
   "execution_count": 355,
   "id": "91c54036-f4ea-4659-b4d7-c878c7271a98",
   "metadata": {},
   "outputs": [],
   "source": [
    "X = np.array([[2.0, 1.0, 3.0], [3.0, 6.0, 2.0], [-1, 0, 2.0]])\n",
    "y = np.array([1.0, 1.0, -1.0])\n",
    "m = len(X)\n",
    "\n",
    "XT = np.transpose(X)\n",
    "#print(XT)\n",
    "#print((np.dot(XT,y))/m)\n",
    "\n",
    "#p1 = np.dot(XT, y)    \n",
    "\n",
    "\n",
    "#p2 = np.linalg.inv(np.dot(X,XT))\n",
    "\n",
    "#print(np.dot(np.dot(XT, y),np.linalg.inv(np.dot(X,XT))))\n",
    "\n",
    "#np.linalg.inv(p1)\n",
    "\n",
    "#print(np.dot(X,XT))\n",
    "#print(np.linalg.inv(np.dot(X,XT)))\n",
    "\n",
    "#Xinv = np.linalg.inv(X)\n",
    "\n",
    "#print(np.dot(X,y))\n",
    "\n",
    "#p1 = np.linalg.inv(np.dot(X,XT))\n",
    "#p2 = np.dot(p1,XT)\n",
    "#p3 = np.dot(p2,y)\n",
    "\n",
    "#print(np.linalg.inv(np.dot(X,y)))"
   ]
  },
  {
   "cell_type": "markdown",
   "id": "1af51508-72a7-46d6-a420-d3d721ab8603",
   "metadata": {},
   "source": [
    "trying again for:\n",
    "\n",
    "$$\n",
    "\\theta = (X^{T}X)^{-1}X^{T}y\n",
    "$$"
   ]
  },
  {
   "cell_type": "code",
   "execution_count": 363,
   "id": "48aa663c-a8e0-482a-ad5b-31848756e2a7",
   "metadata": {},
   "outputs": [
    {
     "name": "stdout",
     "output_type": "stream",
     "text": [
      "[ 0.76470588 -0.17647059 -0.11764706]\n"
     ]
    }
   ],
   "source": [
    "XTX = np.dot(XT,X)\n",
    "\n",
    "invXTX = np.linalg.inv(XTX)\n",
    "\n",
    "\n",
    "\n",
    "invXTX_XT = np.dot(invXTX,XT)\n",
    "\n",
    "\n",
    "\n",
    "sol = np.dot(invXTX_XT,y)\n",
    "\n",
    "print(sol)"
   ]
  },
  {
   "cell_type": "code",
   "execution_count": 367,
   "id": "f7e8b9e7-716d-4f93-bf61-8bd2e4a224a9",
   "metadata": {},
   "outputs": [
    {
     "name": "stdout",
     "output_type": "stream",
     "text": [
      "[ 0.76470588 -0.17647059 -0.11764706]\n"
     ]
    }
   ],
   "source": [
    "# try altogether\n",
    "\n",
    "theta = np.dot(np.dot(np.linalg.inv(np.dot(np.transpose(X),X)),np.transpose(X)) ,y)\n",
    "\n",
    "print(theta)"
   ]
  },
  {
   "cell_type": "markdown",
   "id": "1790ebfb-13e9-48ce-9f88-91bc90c8ade5",
   "metadata": {},
   "source": [
    "$$\n",
    "\\nabla_{\\theta}L(\\theta) = \\frac{X^{T}(X\\theta)}{m} - \\frac{X^{T}y}{m}\n",
    "$$"
   ]
  },
  {
   "cell_type": "code",
   "execution_count": 375,
   "id": "960dbe99-25f4-44b6-8f7d-51320261cdb3",
   "metadata": {},
   "outputs": [
    {
     "name": "stdout",
     "output_type": "stream",
     "text": [
      "[30. 51. 25.]\n"
     ]
    }
   ],
   "source": [
    "gradient = ((np.dot( np.dot(theta, np.transpose(X)), X))/m) - ((np.dot(np.transpose(X), y))/m)\n",
    "\n",
    "m = len(X)\n",
    "X = np.array([[2.0, 1.0, 3.0], [3.0, 6.0, 2.0]])\n",
    "y =  np.array([1.0, 1.0])\n",
    "theta = np.array([1.0, 2.0,1.0])\n",
    "\n",
    "\n",
    "\n",
    "gradient = (np.dot(np.transpose(X), np.dot(X,theta)) / m) - ((np.dot(np.transpose(X), y)) / m)\n",
    "print(gradient)"
   ]
  }
 ],
 "metadata": {
  "kernelspec": {
   "display_name": "Python 3 (ipykernel)",
   "language": "python",
   "name": "python3"
  },
  "language_info": {
   "codemirror_mode": {
    "name": "ipython",
    "version": 3
   },
   "file_extension": ".py",
   "mimetype": "text/x-python",
   "name": "python",
   "nbconvert_exporter": "python",
   "pygments_lexer": "ipython3",
   "version": "3.9.12"
  }
 },
 "nbformat": 4,
 "nbformat_minor": 5
}
