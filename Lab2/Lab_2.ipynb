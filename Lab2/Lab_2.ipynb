{
 "cells": [
  {
   "cell_type": "markdown",
   "metadata": {
    "id": "Z4w4C9qMucYv"
   },
   "source": [
    "## **Lab 2: k-Nearest Neighbour**\n",
    "\n",
    "CS 412\n",
    "\n",
    "***This lab is for group work.***\n",
    "\n",
    "In this lab, we will see how to implement and use k-Nearest Neighbour for classification tasks _step by step_.\n",
    "\n",
    "***Deadline:***\n",
    "**5 PM, Monday of Week 5 (Feb 6)**.\n",
    "\n",
    "\n",
    "## <font color='red'> Please refer to `Lab_Guideline.pdf` in the same Google Drive folder as this Jupyter notebook; the guidelines there apply to all the labs.</font>"
   ]
  },
  {
   "cell_type": "markdown",
   "metadata": {
    "id": "hutIH7_uyvjZ"
   },
   "source": [
    "## Problem 1: Implementation of the k-Nearest Neighbours (kNN) classifier **(65 points)**\n",
    "\n",
    "In Problem 1, you will implement kNN from scratch, which is a good exercise to make sure that you fully understand the algorithm.\n",
    "Do not use any library such as scikit-learn that already has kNN implemented.\n",
    "But you can use general libraries for array and matrix operations such as numpy.\n",
    "\n",
    "\n",
    "**Step 1. (20 points)** The kNN classifier mainly consists of two stages:\n",
    "\n",
    "1.   During training, the classifier takes the training data and simply stores it.\n",
    "2.   During testing, kNN classifies every test example $x$ by \n",
    "\n",
    "> i) finding the $k$ training examples that are most similar to $x$;\n",
    "\n",
    "> ii) outputing the most common label among these $k$ examples.\n",
    "\n",
    "To measure the similarity between samples, we commonly compute the Euclidean distance. The Euclidean distance (a.k.a. $L_2$ distance) between two examples $p$ and $q$ in an $n$-dimensional space is defined as the square root of:\n",
    "\n",
    "\\begin{equation}\n",
    "(p_1-q_1)^2 + (p_2-q_2)^2 + ... + (p_n-q_n)^2. \\tag{1}\n",
    "\\end{equation}\n",
    "\n",
    "This term is equal to \n",
    "\\begin{equation}\n",
    "\\sum_i p_i^2 + \\sum_i q_i^2 - 2 \\sum_i p_i q_i. \\tag{2}\n",
    "\\end{equation}\n",
    "\n",
    "\n",
    "With Euclidean distance, the smaller the value, the more similar the two examples are. Actually, there are many different ways to measure the similarity, such as cosine distance, Manhattan, Chebyshev, and Hamming distance. In practice, you can choose the one that suits your problem. For this lab, we will implement Equation (2) with a function `my_euclidean_dist` that  computes the Euclidean distances.\n",
    "\n",
    "**DO NOT use np.linalg.norm() or function from scipy.**  Make sure your implementation is generic, i.e., not hard coding the number of feature to 2, or the number of training example to 10.\n",
    "\n",
    "**Unit test:** to unit test `my_euclidean_dist`, you can construct two matrices by yourself, e.g., `X_train` being 3-by-2 and `X_test` being 2-by-2. Then you can compute the squared Euclidean distances by hand, and compare it with the result of your code.  See the last four lines of the following code block, which lie outside the definition of `my_euclidean_dist`.  You can uncomment them for testing, but comment them back when you finish the entire lab.\n",
    "\n",
    "`euclidean_dist` will be called eventually by the `knn_predict` function in Step 3 below."
   ]
  },
  {
   "cell_type": "code",
   "execution_count": 106,
   "metadata": {
    "id": "FWDHxYKZGV1B"
   },
   "outputs": [],
   "source": [
    "# set up code for this experiment\n",
    "import numpy as np\n",
    "import matplotlib.pyplot as plt\n",
    "\n",
    "%matplotlib inline\n",
    "\n",
    "np.random.seed(1)\n"
   ]
  },
  {
   "cell_type": "code",
   "execution_count": 107,
   "metadata": {
    "id": "ukpJSEIfBzt6"
   },
   "outputs": [
    {
     "name": "stdout",
     "output_type": "stream",
     "text": [
      "[[ 8. 10.  1.]\n",
      " [ 2.  8.  9.]]\n"
     ]
    }
   ],
   "source": [
    "def my_euclidean_dist(X_test, X_train):\n",
    "  \"\"\"\n",
    "  Compute the *squared* distance between each test example and each training example\n",
    "\n",
    "  Input:\n",
    "  - X_test: A numpy array of shape (num_test, dim_feat) containing test data\n",
    "  - X_train: A numpy array of shape (num_train, dim_feat) containing training data\n",
    "\n",
    "  Output:\n",
    "  - dists: A numpy array of shape (num_test, num_train) where \n",
    "           dist[i, j] is the squared Euclidean distance between \n",
    "           the i-th test example and the j-th training example\n",
    "  \"\"\"\n",
    "  num_test = X_test.shape[0]\n",
    "  num_train = X_train.shape[0]\n",
    "  dists = np.zeros((num_test, num_train))\n",
    "  # TODO:\n",
    "  # Compute the squared L2 distance between all test and training examples.\n",
    "  #\n",
    "  # One most straightforward way is to use nested for loop\n",
    "  # to iterate over all test and training samples.\n",
    "  # Here is the pseudo-code:\n",
    "  # for i = 0 ... num_test - 1\n",
    "  #    a[i] = square of the norm of the i-th test example\n",
    "  # for j = 0 ... num_train - 1\n",
    "  #    b[j] = square of the norm of the j-th training example\n",
    "  # for i = 0 ... num_test - 1\n",
    "  #    for j = 0 ... num_train - 1\n",
    "  #        dists[i, j] = a[i] + b[j] - 2 * np.dot(i-th test example, j-th training example)\n",
    "  # return dists\n",
    "  \n",
    "  \n",
    "  # *****START OF YOUR CODE (DO NOT DELETE/MODIFY THIS LINE)*****\n",
    "\n",
    "  # calculate square of the norm of the i-th test example\n",
    "  for i in range(num_test):\n",
    "    a = sum(np.square(X_test[i]))\n",
    "    # calculate square of the norm of the i-th train example\n",
    "    for j in range(num_train):\n",
    "      b = sum(np.square(X_train[j]))\n",
    "      # calculate distance for i-th test example & i-th train example\n",
    "      dists[i,j] = a + b - 2* np.dot(X_test[i], X_train[j])\n",
    "\n",
    "  # *****END OF YOUR CODE (DO NOT DELETE/MODIFY THIS LINE)***** \n",
    "\n",
    "  return dists\n",
    "\n",
    "# Unit test code here (you can uncomment the four lines below to test)\n",
    "# Compute by hand to check if the result is correct.\n",
    "# The right matrix of squared distance should be\n",
    "# [[ 8 10  1]\n",
    "#  [ 2  8  9]]\n",
    "X_train = np.array([[1, 2], [0, 3], [-1, 1]])\n",
    "X_test = np.array([[-1, 0], [2, 1]])\n",
    "my_dists = my_euclidean_dist(X_test, X_train)\n",
    "print(my_dists)"
   ]
  },
  {
   "cell_type": "markdown",
   "metadata": {
    "id": "7aEEdL4Oww8O"
   },
   "source": [
    "However, you can entirely avoid using loops by reformulating Equation (2) with linear algebra.  The trick is to reformulate the L2 distance as two broadcast sums and matrix multiplication.  \n",
    "\n",
    "**Task:** Try the following implementation and feel the speedup!  Understand the following implementation.  You do not need to write down your understanding or submit anything for it, but it will be helpful to understand it.\n",
    "\n",
    "**Note:**  Since Euclidean distance computation underlies all the subsequent experiments, its efficiency is highly important. Therefore, in the sequel, we will NOT use `my_euclidean_dist` that you just implemented.  Instead, we will use `euclidean_dist`.  However, your implementation of `my_euclidean_dist` will still be graded based on unit test; it will need to be copied to `Lab_1.py` (see submission instruction at the bottom of the page)."
   ]
  },
  {
   "cell_type": "code",
   "execution_count": 108,
   "metadata": {
    "id": "6XsyQxBYxBvp"
   },
   "outputs": [
    {
     "name": "stdout",
     "output_type": "stream",
     "text": [
      "[[ 8 10  1]\n",
      " [ 2  8  9]]\n"
     ]
    }
   ],
   "source": [
    "def euclidean_dist(X_test, X_train):\n",
    "  dists = np.add(np.sum(X_test ** 2, axis=1, keepdims=True), np.sum(X_train ** 2, axis=1, keepdims=True).T) - 2* X_test @ X_train.T\n",
    "  return dists\n",
    "\n",
    "# Unit test code here (you can uncomment the four lines below to test)\n",
    "X_train = np.array([[1, 2], [0, 3], [-1, 1]])\n",
    "X_test = np.array([[-1, 0], [2, 1]])\n",
    "dists = euclidean_dist(X_test, X_train)\n",
    "print(dists)"
   ]
  },
  {
   "cell_type": "markdown",
   "metadata": {
    "id": "T_aUcYK-KINy"
   },
   "source": [
    "**Step 2. (20 points)**  Once distances are calculated, we can find the top $k$ nearest neighbors for each test example by retrieving from the dists matrix. \n",
    "In particular, for each test example $x$, we can sort all the training examples by their distance to $x$ then find the $k$ most nearest neighbors.  \n",
    "\n",
    "**HINT**: Recall from the lecture that `argsort` is useful for this purpose.\n",
    "\n",
    "**Note**: to run the unit test, you need to uncomment the unit test in the previous code block."
   ]
  },
  {
   "cell_type": "code",
   "execution_count": 109,
   "metadata": {
    "id": "lveUni0IT2G4"
   },
   "outputs": [
    {
     "name": "stdout",
     "output_type": "stream",
     "text": [
      "[[1. 0. 1.]\n",
      " [0. 1. 1.]]\n"
     ]
    }
   ],
   "source": [
    "def find_k_neighbors(dists, Y_train, k):\n",
    "  \"\"\"\n",
    "  find the labels of the top k nearest neighbors\n",
    "\n",
    "  Inputs:\n",
    "  - dists: distance matrix of shape (num_test, num_train)\n",
    "  - Y_train: A numpy array of shape (num_train) containing ground truth labels for training data\n",
    "  - k: An integer, k nearest neighbors\n",
    "\n",
    "  Output:\n",
    "  - neighbors: A numpy array of shape (num_test, k), where each row containts the \n",
    "               labels of the k nearest neighbors for each test example\n",
    "  \"\"\"\n",
    "  # TODO:\n",
    "  # find the top k nearest neighbors for each test sample.\n",
    "  # retrieve the corresponding labels of those neighbors.\n",
    "  # Here is the pseudo-code:\n",
    "  # for i = 0 ... num_test-1\n",
    "  #     idx = numpy.argsort(i-th row of dists)\n",
    "  #     neighbors[i] = Y_train(idx[0]), ..., Y_train(idx[k-1])\n",
    "  # return neighbors\n",
    "  # Advanced: You can accelerate the code by, e.g., argsort on the `dists` matrix directly\n",
    "\n",
    "  # *****START OF YOUR CODE (DO NOT DELETE/MODIFY THIS LINE)*****\n",
    "  num_test = dists.shape[0]\n",
    "  neighbors = np.zeros((num_test, k))\n",
    "  # sort indices of dists by shortest to longest distance\n",
    "  idx = np.argsort(dists, axis=1)\n",
    "  \n",
    "  # return label for k closest neighbors\n",
    "  for i in range(num_test):\n",
    "    for j in range(k):\n",
    "      neighbors[i][j] = Y_train[idx[i][j]]\n",
    "  # *****END OF YOUR CODE (DO NOT DELETE/MODIFY THIS LINE)*****\n",
    "  return neighbors\n",
    "\n",
    "# Unit test code here (you can uncomment the lines below to test)\n",
    "# Compute by hand to check if the result is correct.\n",
    "\"\"\"\n",
    "[[1. 0. 1.]\n",
    " [0. 1. 1.]]\n",
    "\"\"\"\n",
    "k = 3   # you can vary it as 1 or 3\n",
    "Y_train = np.array([0, 1, 1])\n",
    "neighbors = find_k_neighbors(dists, Y_train, k)\n",
    "print(neighbors)"
   ]
  },
  {
   "cell_type": "markdown",
   "metadata": {
    "id": "ISP74Eh2rr4i"
   },
   "source": [
    "**Step 3. (20 points)** Finally, we can put together `euclidean_dist` and `find_k_neighbors`, so that labels can be predicted for test examples.  In kNN, we take the labels of the $k$ nearest neighbors and find the most common one and assign it to the test sample.\n",
    "\n",
    "**Hint:** You may find [`np.unique`](https://numpy.org/doc/stable/reference/generated/numpy.unique.html#numpy-unique) and `argmax` useful."
   ]
  },
  {
   "cell_type": "code",
   "execution_count": 110,
   "metadata": {
    "id": "LXqx94yVt41e"
   },
   "outputs": [
    {
     "name": "stdout",
     "output_type": "stream",
     "text": [
      "[1 1]\n"
     ]
    }
   ],
   "source": [
    "def knn_predict(X_test, X_train, Y_train, k):\n",
    "  \"\"\"\n",
    "  predict labels for test data.\n",
    "\n",
    "  Inputs:\n",
    "  - X_test: A numpy array of shape (num_test, dim_feat) containing test data.\n",
    "  - X_train: A numpy array of shape (num_train, dim_feat) containing training data.\n",
    "  - Y_train: A numpy array of shape (num_train) containing ground truth labels for training data\n",
    "  - k: An integer, k nearest neighbors\n",
    "\n",
    "  Output:\n",
    "  - Y_pred: A numpy array of shape (num_test). Predicted labels for the test data.\n",
    "  \"\"\"\n",
    "  # TODO:\n",
    "  # find the labels of k nearest neighbors for each test example,\n",
    "  # and then find the majority label out of the k labels\n",
    "  #\n",
    "  # Here is the pseudo-code:\n",
    "  # dists = euclidean_dist(X_test, X_train)\n",
    "  # neighbors = find_k_neighbors(dists, Y_train, k)\n",
    "  # Y_pred = np.zeros(num_test, dtype=int)  # force dtype=int in case the dataset\n",
    "  #                                         # stores labels as float-point numbers\n",
    "  # for i = 0 ... num_test-1\n",
    "  #     Y_pred[i] = # the most common/frequent label in neighbors[i], you can\n",
    "  #                 # implement it by using np.unique\n",
    "  # return Y_pred\n",
    "\n",
    "  # *****START OF YOUR CODE (DO NOT DELETE/MODIFY THIS LINE)*****\n",
    "  # find euclidean distance of x_test vals to x_train vals\n",
    "  dists = euclidean_dist(X_test, X_train)\n",
    "  # return the labels of the k nearest training vals\n",
    "  neighbors = find_k_neighbors(dists, Y_train, k)\n",
    "  \n",
    "  # calculate num_test\n",
    "  num_test = X_test.shape[0]\n",
    "  # initialize empty array for Y_pred of length num_test\n",
    "  Y_pred = np.zeros(num_test, dtype=int)\n",
    "  \n",
    "  # calculate most frequent label in neigbors add to Y_pred\n",
    "  for i in range(num_test):\n",
    "    labels, counts = np.unique(neighbors[i], return_counts=True)\n",
    "    Y_pred[i] = labels[np.argmax(counts)]\n",
    "  # *****END OF YOUR CODE (DO NOT DELETE/MODIFY THIS LINE)*****\n",
    "  return Y_pred\n",
    "\n",
    "# Unit test code here (you can uncomment the lines below to test)\n",
    "# Compute by hand to check if the result is correct.\n",
    "\"\"\"\n",
    "[1 1]\n",
    "\"\"\"\n",
    "Y_pred = knn_predict(X_test, X_train, Y_train, k)\n",
    "print(Y_pred)"
   ]
  },
  {
   "cell_type": "markdown",
   "metadata": {
    "id": "i7EAaUOyC4AY"
   },
   "source": [
    "**Step 4. (5 points)** Once we obtain the predicted labels, we need to implement a function to compare them against the true label and compute the error rate in percentage (i.e., a number between 0 and 100). In the following code block, implement the `compute_error_rate` function by following the specified inputs and output."
   ]
  },
  {
   "cell_type": "code",
   "execution_count": 111,
   "metadata": {
    "id": "Vr3PVo1_C7_r"
   },
   "outputs": [
    {
     "data": {
      "text/plain": [
       "20.0"
      ]
     },
     "execution_count": 111,
     "metadata": {},
     "output_type": "execute_result"
    }
   ],
   "source": [
    "def compute_error_rate(ypred, ytrue):\n",
    "  \"\"\"\n",
    "  Compute error rate given the predicted results and true label.\n",
    "  Inputs:\n",
    "  - ypred: array of prediction results.\n",
    "  - ytrue: array of true labels.\n",
    "    ypred and ytrue should be of same length.\n",
    "  Output:\n",
    "  - error rate: float number indicating the error in percentage\n",
    "                (i.e., a number between 0 and 100).\n",
    "  \"\"\"\n",
    "  # Here is the pseudo-code:\n",
    "  # err = 0\n",
    "  # for i = 0 ... num_test - 1\n",
    "  #     err = err + (ypred[i] != ytrue[i])  # generalizes to multiple classes\n",
    "  # error_rate = err / num_test * 100\n",
    "  # return error_rate\n",
    "  #\n",
    "  # Advanced (optional): \n",
    "  #   implement it in one line by using vector operation and the `mean` function\n",
    "\n",
    "  # *****START OF YOUR CODE (DO NOT DELETE/MODIFY THIS LINE)*****\n",
    "  num_test = ypred.shape[0]\n",
    "  err = 0\n",
    "  for i in range(num_test):\n",
    "    err = err + (ypred[i] != ytrue[i])\n",
    "\n",
    "  error_rate = err / num_test * 100\n",
    "\n",
    "\n",
    "  # *****END OF YOUR CODE (DO NOT DELETE/MODIFY THIS LINE)*****\n",
    "  return error_rate\n",
    "\n",
    "ypred = np.array([1,0,0,1,0])\n",
    "ytrue = np.array([1,0,0,1,1])\n",
    "\n",
    "compute_error_rate(ypred, ytrue)\n",
    "\n"
   ]
  },
  {
   "cell_type": "markdown",
   "metadata": {
    "id": "GNJ62NKozii3"
   },
   "source": [
    "## Problem 2: Optical character recognition (OCR) **(35 points)**{-}\n",
    "\n",
    "We will now apply the above developed function to a real world problem of optical character recognition (OCR).\n",
    "\n",
    "**Load the MNIST dataset.** In the following code block, we have downloaded the MNIST dataset and split the data into trainning and test sets. This part has already been done, and you can directly run it with no need of modifying the code.  But do make sure that you understand the code as it will be useful for future labs.\n",
    "\n",
    "**Note:** after running the code, the training data (Xtrain, ytrain) has 10,000 examples, and the test data (Xtest, ytest) also has 10,000 examples."
   ]
  },
  {
   "cell_type": "code",
   "execution_count": 112,
   "metadata": {
    "id": "sgWufXl41uJX",
    "tags": []
   },
   "outputs": [],
   "source": [
    "import os\n",
    "import gzip\n",
    "\n",
    "DATA_URL = ' http://www.cs.uic.edu/~zhangx/teaching/'\n",
    "\n",
    "# Download and import the MNIST dataset from Yann LeCun's website.\n",
    "# Each image is an array of 784 (28x28) float values  from 0 (white) to 1 (black).\n",
    "def load_data():\n",
    "    x_tr = load_images('train-images-idx3-ubyte.gz')\n",
    "    y_tr = load_labels('train-labels-idx1-ubyte.gz')\n",
    "    x_te = load_images('t10k-images-idx3-ubyte.gz')\n",
    "    y_te = load_labels('t10k-labels-idx1-ubyte.gz')\n",
    "\n",
    "    return x_tr, y_tr, x_te, y_te\n",
    "\n",
    "def load_images(filename):\n",
    "    maybe_download(filename)\n",
    "    with gzip.open(filename, 'rb') as f:\n",
    "        data = np.frombuffer(f.read(), np.uint8, offset=16)\n",
    "    return data.reshape(-1, 28 * 28) / np.float32(256)\n",
    "\n",
    "def load_labels(filename):\n",
    "    maybe_download(filename)\n",
    "    with gzip.open(filename, 'rb') as f:\n",
    "        data = np.frombuffer(f.read(), np.uint8, offset=8)\n",
    "    return data\n",
    "\n",
    "# Download the file, unless it's already here.\n",
    "def maybe_download(filename):\n",
    "    if not os.path.exists(filename):\n",
    "        from urllib.request import urlretrieve\n",
    "        print(\"Downloading %s\" % filename)\n",
    "        urlretrieve(DATA_URL + filename, filename)\n",
    "\n",
    "Xtrain, ytrain, Xtest, ytest = load_data()\n",
    "\n",
    "train_size = 10000\n",
    "test_size  = 10000\n",
    "\n",
    "Xtrain = Xtrain[0:train_size]\n",
    "ytrain = ytrain[0:train_size]\n",
    "\n",
    "Xtest = Xtest[0:test_size]\n",
    "ytest = ytest[0:test_size]\n",
    "\n"
   ]
  },
  {
   "cell_type": "markdown",
   "metadata": {
    "id": "Y-KNutaT130w"
   },
   "source": [
    "## 2.1 Effect of different numbers of training examples\n",
    "\n",
    "**(35 points)** In the following code block, we will compute the classification error of the 1-NN ($k=1$) for the MNIST dataset by calling the `knn_predict` function. We will study does the error change with different number of training examples.\n",
    "\n",
    "**Tasks**: train on the **first** $ntr$ number of training examples in (Xtrain, ytrain) that is produced by the above data-loading code, where $ntr$ is varied in $\\{100, 1000, 2500, 5000, 7500, 10000\\}$.\n",
    "1. Print the test error rate for each of these values of $ntr$.  Note that the above data-loading code produces 10,000 test examples stored in (Xtest, ytest). Just use all of them for testing, i.e., fixing the test set size to 10000.\n",
    "2. Plot a figure where the $x$-axis is the above values of $ntr$, and the $y$-axis is the test error rate.\n",
    "\n",
    "Directly calling `knn_predict` with the training and test set may cost too much memory.  So we will classify the test examples in batches, i.e., divide the test set into `nbtaches` number of subsets/batches, and predict for the first batch, then second batch, etc. For example, with 30 test examples and 5 batches, we first use `knn_predict` to classify test examples 0...5, then 6...11, ..., and finally 26...29.\n",
    "\n",
    "**Hint:** you may refer [here](https://matplotlib.org/tutorials/introductory/pyplot.html) for how to plot in python."
   ]
  },
  {
   "cell_type": "code",
   "execution_count": 117,
   "metadata": {
    "id": "lbnD99tN3WIG",
    "tags": []
   },
   "outputs": [
    {
     "name": "stdout",
     "output_type": "stream",
     "text": [
      "trial size =  100 error rate =  32.06 %\n",
      "trial size =  1000 error rate =  13.100000000000001 %\n",
      "trial size =  2500 error rate =  8.64 %\n",
      "trial size =  5000 error rate =  6.569999999999999 %\n",
      "trial size =  7500 error rate =  5.91 %\n",
      "trial size =  10000 error rate =  5.37 %\n"
     ]
    },
    {
     "data": {
      "image/png": "[encoded data removed]",
      "text/plain": [
       "<Figure size 432x288 with 1 Axes>"
      ]
     },
     "metadata": {
      "needs_background": "light"
     },
     "output_type": "display_data"
    }
   ],
   "source": [
    "#  nbatches must be an even divisor of test_size. Increase if you run out of memory \n",
    "if test_size > 1000:\n",
    "  nbatches = 50\n",
    "else:\n",
    "  nbatches = 5\n",
    "\n",
    "# Let us first set up the index of each batch. \n",
    "# After running the next line, 'batches' will be a 2D array sized nbatches-by-m,\n",
    "# where m = test_size / nbatches.\n",
    "# batches[i] stores the indices (out of 0...test_size-1) for the i-th batch\n",
    "# You can run 'print(batches[3])' etc to witness the value of 'batches'.\n",
    "batches = np.array_split(np.arange(test_size), nbatches)\n",
    "ypred = np.zeros_like(ytest)\n",
    "trial_sizes = [100, 1000, 2500, 5000, 7500, 10000]\n",
    "trials = len(trial_sizes)\n",
    "error_rates = [0]*trials\n",
    "k = 1\n",
    "\n",
    "# Here is the pseudo code:\n",
    "# \n",
    "# for t = 0 ... trials-1  # loop over different number of training examples\n",
    "# \ttrial_size = trial_sizes[t]\n",
    "# \ttrial_X = Xtrain[...] # extract trial_size number of training examples from the whole training set\n",
    "# \ttrial_Y = Ytrain[...] # extract the corresponding labels\n",
    "# \tfor i = 0…nbatches—1\n",
    "# \t\typred[...] = # call knn_predict to classify the i-th batch of test examples.\n",
    "#                  # You should use 'batches' to get the indices for batch i.\n",
    "#                  # Then store the predicted labels also in the corresponding\n",
    "#                  # elements of ypred, so that after the loop over i completes,\n",
    "#                  # ypred will hold exactly the predicted labels of all test examples.\n",
    "# \terror_rates[t] = # call compute_error_rate to compute the error rate by \n",
    "#                     comparing ypred against ytest\n",
    "#   print a line like '#tr = 100, error rate = 50.3%'\n",
    "# plot the figure:\n",
    "# f = plt.figure()\n",
    "# plt.plot(...)\n",
    "# plt.xlabel(...)\n",
    "# plt.ylabel(...)\n",
    "# plt.show()\n",
    "\n",
    "\n",
    "# *****START OF YOUR CODE (DO NOT DELETE/MODIFY THIS LINE)*****\n",
    "for t in range(trials):\n",
    "  trial_size = trial_sizes[t]\n",
    "  trial_X = Xtrain[:trial_size]\n",
    "  trial_Y = ytrain[:trial_size]\n",
    "\n",
    "  # predict label for each batch\n",
    "  for i in range(nbatches):\n",
    "    ypred[:][batches[i]] = knn_predict(Xtest[batches[i]], trial_X, trial_Y, k)\n",
    "  # calculate error rate for each trial size\n",
    "  error_rates[t] = compute_error_rate(ypred, ytest)\n",
    "  print(\"trial size = \", trial_sizes[t], \"error rate = \", error_rates[t], \"%\")\n",
    "\n",
    "\n",
    "plt.plot(trial_sizes, error_rates)\n",
    "plt.title(\"How trial size affects error rate for KNN prediction\")\n",
    "plt.xlabel(\"trial size\")\n",
    "plt.ylabel(\"error rate\")\n",
    "plt.show()\n",
    "# *****END OF YOUR CODE (DO NOT DELETE/MODIFY THIS LINE)*****\n",
    "\n"
   ]
  },
  {
   "cell_type": "markdown",
   "metadata": {
    "id": "0w0TZVbzIQ3Z"
   },
   "source": [
    "# Submission Instruction {-}\n",
    "\n",
    "You're almost done! Take the following steps to finally submit your work.\n",
    "\n",
    "1. After executing all commands and completing this notebook, save your `Lab_2.ipynb` as a PDF file, named as `X_Y_UIN.pdf`, where `X` is your first name, `Y` is your last name, and `UIN` is your UIN. Make sure that your PDF file includes all parts of your solution, including the plots. \n",
    "\n",
    "> * Print out all unit test case results before printing the notebook into a PDF.\n",
    "* If you use Colab, open this notebook in Chrome.  Then File -> Print -> set Destination to \"Save as PDF\".  If the web page freezes when printing, close Chrome and reopen the page. If Chrome doesn't work, try Firefox.\n",
    "* If you are working on your own computer, we recommend using the browser (not jupyter) for saving the PDF. For Chrome on a Mac, this is under *File->Print...->Open PDF in Preview*. When the PDF opens in Preview, you can use *Save...* to save it.\n",
    "* Sometimes, a figure that appears near the end of a page can get cut.  In this case, try to add some new lines in the preceding code block so that the figure is pushed to the beginning of the next page. Or insert some text blocks.\n",
    "\n",
    "2. Upload `X_Y_UIN.pdf` to Gradescope under `Lab_2_Written`.\n",
    "\n",
    "3. A template of `Lab_2.py` has been provided.  For all functions in `Lab_2.py`, copy the corresponding code snippets you have written into it, excluding the plot code.  **Do NOT** copy any code of plotting figures and do not import **matplotlib**.  This is because the auto-grader cannot work with plotting.  **Do NOT** change the function names.  \n",
    "\n",
    "4. Zip `Lab_2.py` and `Lab_2.ipynb` (**2 files**) into a zip file named `X_Y_UIN.zip`. Suppose the two files are in the folder `Lab_2`.  Then zip up the **two files inside the `Lab_2` folder**.  **Do NOT zip up the folder `Lab_2`** because the auto-grader cannot search inside a folder. Submit this zip file to Gradescope under `Lab_2_Code`. \n",
    "\n",
    "5. The autograder on Gradscope will be open all the time. We designed some simple test cases to help you check wehther your functions are executable. You will see the results of running autograder once you submit your code. Please follow the error messages to debug. Since those simple test cases are designed for debugging, it does not guaranttee your solution will work well on the real dataset. It is your responsibility to make your code logically correct. Since all functions are tested in batch, the autograder might take a few minutes to run after submission.\n",
    "\n",
    "If you *only* try to get real-time feedback from auto-grader, it will be fine to just upload `Lab_2.py` to `Lab_2_Code`.  However, the final submission for grading should still follow the above point 4.\n",
    "\n",
    "You can submit to Gradescope as often as you like. We will only consider your last submission before the deadline."
   ]
  }
 ],
 "metadata": {
  "colab": {
   "collapsed_sections": [
    "Z4w4C9qMucYv",
    "0w0TZVbzIQ3Z"
   ],
   "provenance": []
  },
  "interpreter": {
   "hash": "38cca0c38332a56087b24af0bc80247f4fced29cb4f7f437d91dc159adec9c4e"
  },
  "kernelspec": {
   "display_name": "Python 3.9.12 ('base')",
   "language": "python",
   "name": "python3"
  },
  "language_info": {
   "codemirror_mode": {
    "name": "ipython",
    "version": 3
   },
   "file_extension": ".py",
   "mimetype": "text/x-python",
   "name": "python",
   "nbconvert_exporter": "python",
   "pygments_lexer": "ipython3",
   "version": "3.9.12"
  }
 },
 "nbformat": 4,
 "nbformat_minor": 4
}
