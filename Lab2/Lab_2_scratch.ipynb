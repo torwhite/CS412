{
 "cells": [
  {
   "cell_type": "code",
   "execution_count": 3,
   "metadata": {},
   "outputs": [],
   "source": [
    "# set up code for this experiment\n",
    "import numpy as np\n",
    "import matplotlib.pyplot as plt\n",
    "\n",
    "%matplotlib inline\n",
    "\n",
    "np.random.seed(1)"
   ]
  },
  {
   "cell_type": "markdown",
   "metadata": {},
   "source": [
    "# Problem 1\n",
    "## my_euclidian distance scratch work"
   ]
  },
  {
   "cell_type": "code",
   "execution_count": 5,
   "metadata": {},
   "outputs": [
    {
     "name": "stdout",
     "output_type": "stream",
     "text": [
      "2\n"
     ]
    }
   ],
   "source": [
    "X_train = np.array([[1, 2], [0, 3], [-1, 1]])\n",
    "X_test = np.array([[-1, 0], [2, 1]])\n",
    "num_test = X_test.shape[0]\n",
    "num_train = X_train.shape[0]\n",
    "dists = np.zeros((num_test, num_train))\n",
    "\n",
    "sum(np.square(X_train[0]))\n",
    "\n",
    "print(num_test)\n",
    "\n",
    "\n"
   ]
  },
  {
   "cell_type": "code",
   "execution_count": 6,
   "metadata": {},
   "outputs": [
    {
     "name": "stdout",
     "output_type": "stream",
     "text": [
      "[1. 5.]\n"
     ]
    }
   ],
   "source": [
    "a = np.zeros(num_test)\n",
    "\n",
    "\n",
    "for i in range(num_test):\n",
    "    a[i] = sum(np.square(X_test[i]))\n",
    "\n",
    "print(a)"
   ]
  },
  {
   "cell_type": "code",
   "execution_count": 7,
   "metadata": {},
   "outputs": [
    {
     "name": "stdout",
     "output_type": "stream",
     "text": [
      "[5. 9. 2.]\n"
     ]
    }
   ],
   "source": [
    "b = np.zeros(num_train)\n",
    "for j in range(num_train):\n",
    "    b[j] = sum(np.square(X_train[j]))\n",
    "\n",
    "print(b)\n"
   ]
  },
  {
   "cell_type": "code",
   "execution_count": 8,
   "metadata": {},
   "outputs": [
    {
     "name": "stdout",
     "output_type": "stream",
     "text": [
      "[[ 8. 10.  1.]\n",
      " [ 2.  8.  9.]]\n"
     ]
    }
   ],
   "source": [
    "#for i = 0 ... num_test - 1\n",
    "  #    for j = 0 ... num_train - 1\n",
    "  #        dists[i, j] = a[i] + b[j] - 2 * np.dot(i-th test example, j-th training example)\n",
    "\n",
    "# calculate square of the norm of the i-th test example\n",
    "for i in range(num_test):\n",
    "  a = sum(np.square(X_test[i]))\n",
    "  # calculate square of the norm of the i-th train example\n",
    "  for j in range(num_train):\n",
    "    b = sum(np.square(X_train[j]))\n",
    "    # calculate distance for i-th test example & i-th train example\n",
    "    dists[i,j] = a + b - 2* np.dot(X_test[i], X_train[j])\n",
    "\n",
    "print(dists)"
   ]
  },
  {
   "cell_type": "markdown",
   "metadata": {},
   "source": [
    "## Step 2:\n"
   ]
  },
  {
   "cell_type": "code",
   "execution_count": 37,
   "metadata": {},
   "outputs": [
    {
     "name": "stdout",
     "output_type": "stream",
     "text": [
      "2\n"
     ]
    }
   ],
   "source": [
    "# TODO:\n",
    "# find the top k nearest neighbors for each test sample.\n",
    "# retrieve the corresponding labels of those neighbors.\n",
    "# Here is the pseudo-code:\n",
    "# for i = 0 ... num_test-1\n",
    "#     idx = numpy.argsort(i-th row of dists)\n",
    "#     neighbors[i] = Y_train(idx[0]), ..., Y_train(idx[k-1])\n",
    "# return neighbors\n",
    "# Advanced: You can accelerate the code by, e.g., argsort on the `dists` matrix directly\n",
    "\n",
    "idx = np.argsort(dists, axis=1)\n",
    "k = 2\n",
    "neighbors = np.zeros((num_test, k))\n",
    "Y_train = np.array([0, 1, 1])\n",
    "\n",
    "num_test = dists.shape[0]\n",
    "print(num_test)\n",
    "\n",
    "for i in range(num_test):\n",
    "  for k in range(k):\n",
    "    neighbors[i][k] = Y_train[idx[i][k]]\n",
    "\n",
    "\n"
   ]
  },
  {
   "cell_type": "code",
   "execution_count": 47,
   "metadata": {},
   "outputs": [
    {
     "name": "stdout",
     "output_type": "stream",
     "text": [
      "[[1. 0.]\n",
      " [0. 1.]]\n"
     ]
    }
   ],
   "source": [
    "# test answer code\n",
    "\n",
    "\n",
    "    num_test = dists.shape[0]\n",
    "    neighbors = np.zeros((num_test, k))\n",
    "\n",
    "    # sort indices of dists by shortest to longest distance\n",
    "    idx = np.argsort(dists, axis=1)\n",
    "  \n",
    "    # return label for k closest neighbors\n",
    "    for i in range(num_test):\n",
    "        for j in range(k):\n",
    "            neighbors[i][j] = Y_train[idx[i][j]]\n",
    "\n",
    "k = 3   # you can vary it as 1 or 3\n",
    "Y_train = np.array([0, 1, 1])\n",
    "find_k_neighbors(dists, Y_train, k)\n",
    "\n",
    "print(neighbors)\n"
   ]
  },
  {
   "cell_type": "markdown",
   "metadata": {},
   "source": [
    "Step 3: return label for test set\n"
   ]
  },
  {
   "cell_type": "code",
   "execution_count": 75,
   "metadata": {},
   "outputs": [
    {
     "name": "stdout",
     "output_type": "stream",
     "text": [
      "[0. 1.] [1 2]\n",
      "[0. 1.] [1 2]\n",
      "[[1. 0. 1.]\n",
      " [0. 1. 1.]]\n"
     ]
    }
   ],
   "source": [
    "def euclidean_dist(X_test, X_train):\n",
    "    dists = np.add(np.sum(X_test ** 2, axis=1, keepdims=True), np.sum(X_train ** 2, axis=1, keepdims=True).T) - 2* X_test @ X_train.T\n",
    "    return dists\n",
    "\n",
    "def find_k_neighbors(dists, Y_train, k):\n",
    "  num_test = dists.shape[0]\n",
    "  neighbors = np.zeros((num_test, k))\n",
    "  # sort indices of dists by shortest to longest distance\n",
    "  idx = np.argsort(dists, axis=1)\n",
    "  \n",
    "  # return label for k closest neighbors\n",
    "  for i in range(num_test):\n",
    "    for j in range(k):\n",
    "      neighbors[i][j] = Y_train[idx[i][j]]\n",
    "  # *****END OF YOUR CODE (DO NOT DELETE/MODIFY THIS LINE)*****\n",
    "  return neighbors\n",
    "\n",
    "# Unit test code here (you can uncomment the four lines below to test)\n",
    "X_train = np.array([[1, 2], [0, 3], [-1, 1]])\n",
    "X_test = np.array([[-1, 0], [2, 1]])\n",
    "\n",
    "  \n",
    "\"\"\"\n",
    "  Inputs:\n",
    "  - X_test: A numpy array of shape (num_test, dim_feat) containing test data.\n",
    "  - X_train: A numpy array of shape (num_train, dim_feat) containing training data.\n",
    "  - Y_train: A numpy array of shape (num_train) containing ground truth labels for training data\n",
    "  - k: An integer, k nearest neighbors\n",
    "\n",
    "  Output:\n",
    "  - Y_pred: A numpy array of shape (num_test). Predicted labels for the test data.\n",
    "\n",
    "  # TODO:\n",
    "  # find the labels of k nearest neighbors for each test example,\n",
    "  # and then find the majority label out of the k labels\n",
    "  #\n",
    "  # Here is the pseudo-code:\n",
    "\"\"\"\n",
    "neighbors = find_k_neighbors(dists, Y_train, k)\n",
    "dists = euclidean_dist(X_test, X_train)\n",
    "# initialize empty array for Y_pred of length num_test\n",
    "Y_pred = np.zeros(num_test, dtype=int)\n",
    "# calculate most frequent label in neigbors add to Y_pred\n",
    "for i in range(num_test):\n",
    "  labels, counts = np.unique(neighbors[i], return_counts=True)\n",
    "  Y_pred[i] = labels[np.argmax(counts)]\n",
    "  print(labels, counts)\n",
    "\n",
    "#print(Y_pred)\n",
    "print(neighbors)\n",
    "#print(labels, counts)\n",
    "\n",
    "\n",
    "  # Y_pred = np.zeros(num_test, dtype=int)  # force dtype=int in case the dataset\n",
    "  #                                         # stores labels as float-point numbers\n",
    "  # for i = 0 ... num_test-1\n",
    "  #     Y_pred[i] = # the most common/frequent label in neighbors[i], you can\n",
    "  #                 # implement it by using np.unique\n",
    "  # return Y_pred"
   ]
  },
  {
   "cell_type": "code",
   "execution_count": 66,
   "metadata": {},
   "outputs": [
    {
     "data": {
      "text/plain": [
       "1"
      ]
     },
     "execution_count": 66,
     "metadata": {},
     "output_type": "execute_result"
    }
   ],
   "source": [
    "ypred = 1\n",
    "ytrue = 0\n",
    "int(ypred != ytrue)\n",
    "\n"
   ]
  },
  {
   "cell_type": "code",
   "execution_count": 69,
   "metadata": {},
   "outputs": [
    {
     "name": "stdout",
     "output_type": "stream",
     "text": [
      "[[1. 0. 1.]\n",
      " [0. 1. 1.]]\n",
      "[0. 1.] [2 4]\n"
     ]
    }
   ],
   "source": [
    "\n",
    "\n",
    "labels, counts = np.unique(neighbors, return_counts=True)\n",
    "\n",
    "print(neighbors)\n",
    "print(labels, counts)"
   ]
  }
 ],
 "metadata": {
  "interpreter": {
   "hash": "38cca0c38332a56087b24af0bc80247f4fced29cb4f7f437d91dc159adec9c4e"
  },
  "kernelspec": {
   "display_name": "Python 3.9.12 ('base')",
   "language": "python",
   "name": "python3"
  },
  "language_info": {
   "codemirror_mode": {
    "name": "ipython",
    "version": 3
   },
   "file_extension": ".py",
   "mimetype": "text/x-python",
   "name": "python",
   "nbconvert_exporter": "python",
   "pygments_lexer": "ipython3",
   "version": "3.9.12"
  },
  "orig_nbformat": 4
 },
 "nbformat": 4,
 "nbformat_minor": 2
}
