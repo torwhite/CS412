{
 "cells": [
  {
   "cell_type": "code",
   "execution_count": null,
   "metadata": {},
   "outputs": [],
   "source": [
    "import numpy as np\n",
    "import matplotlib.pyplot as plt\n",
    "from math import factorial, exp\n",
    "\n",
    "# Define the function\n",
    "def f(x, lmbda):\n",
    "    if x < 0:\n",
    "        return 0\n",
    "    else:\n",
    "        return (exp(-lmbda) * lmbda**x) / factorial(x)\n",
    "\n",
    "# Values of lambda\n",
    "lambdas = [0.5, 1.0, 2.0]\n",
    "\n",
    "# Generate x values\n",
    "x_values = np.arange(0, 10, 1)\n",
    "\n",
    "# Create subplots for each lambda\n",
    "plt.figure(figsize=(12, 6))\n",
    "for lmbda in lambdas:\n",
    "    y_values = [f(x, lmbda) for x in x_values]\n",
    "    plt.plot(x_values, y_values, label=f'λ = {lmbda}')\n",
    "\n",
    "plt.xlabel('x')\n",
    "plt.ylabel('f(x; λ)')\n",
    "plt.title('Probability Mass Function for Poisson Distribution')\n",
    "plt.legend()\n",
    "plt.grid(True)\n",
    "plt.show()"
   ]
  }
 ],
 "metadata": {
  "language_info": {
   "name": "python"
  },
  "orig_nbformat": 4
 },
 "nbformat": 4,
 "nbformat_minor": 2
}
