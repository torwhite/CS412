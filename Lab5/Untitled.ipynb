{
 "cells": [
  {
   "cell_type": "markdown",
   "id": "85c4fa18-8a80-48c6-a4f9-0debcefb7967",
   "metadata": {},
   "source": [
    "## Count frequency testing"
   ]
  },
  {
   "cell_type": "code",
   "execution_count": 15,
   "id": "225b39fc-222f-4cd7-b90a-069a047aeb23",
   "metadata": {},
   "outputs": [
    {
     "name": "stdout",
     "output_type": "stream",
     "text": [
      "['hello', 'how', 'are', 'you', 'win', 'money', 'win', 'from', 'home', 'call', 'me', 'now', 'hello', 'call', 'hello', 'you', 'tomorrow']\n",
      "Counter({'hello': 3, 'you': 2, 'win': 2, 'call': 2, 'how': 1, 'are': 1, 'money': 1, 'from': 1, 'home': 1, 'me': 1, 'now': 1, 'tomorrow': 1})\n"
     ]
    }
   ],
   "source": [
    "import string\n",
    "from collections import Counter\n",
    "\n",
    "documents = ['Hello, how are you!',\n",
    "            'Win money, win from home.',\n",
    "            'Call me now.',\n",
    "            'Hello, Call hello you tomorrow?']\n",
    "\n",
    "lower_case_doc = []\n",
    "for s in documents:\n",
    "    lower_case_doc.append(s.lower())\n",
    "\n",
    "\n",
    "\n",
    "no_punc_doc = []\n",
    "for s in lower_case_doc:\n",
    "    no_punc_doc.append(s.translate(str.maketrans('','',string.punctuation)))\n",
    "    \n",
    "words_doc = []\n",
    "for s in no_punc_doc:\n",
    "    words_doc.append(s.split(' '))\n",
    "    \n",
    "all_words = []\n",
    "for s in words_doc:\n",
    "    all_words.extend(s)\n",
    "    \n",
    "print(all_words)\n",
    "\n",
    "frequency = Counter(all_words)\n",
    "    \n",
    "print(frequency)\n"
   ]
  },
  {
   "cell_type": "code",
   "execution_count": 72,
   "id": "1d06570a-d55f-4705-b0cd-936be8911ed4",
   "metadata": {},
   "outputs": [
    {
     "name": "stdout",
     "output_type": "stream",
     "text": [
      "{'0': 0.4, '1': 0.6}\n"
     ]
    }
   ],
   "source": [
    "import pandas as pd\n",
    "\n",
    "test = {\n",
    "383:    1,\n",
    "663:    1,\n",
    "726:    1,\n",
    "737:    0,\n",
    "833:    0\n",
    "}\n",
    "\n",
    "test = pd.Series(test)\n",
    "\n",
    "test[test==0]\n",
    "prior = {'0': len(test[test == 0])/len(test) , '1': len(test[test == 1])/len(test)}\n",
    "\n",
    "print(prior)"
   ]
  },
  {
   "cell_type": "code",
   "execution_count": 45,
   "id": "2631092c-4c36-401a-8a42-3b482d131454",
   "metadata": {},
   "outputs": [
    {
     "name": "stdout",
     "output_type": "stream",
     "text": [
      "383 1\n",
      "663 1\n",
      "726 1\n",
      "737 0\n",
      "833 0\n",
      "[0, 0]\n"
     ]
    }
   ],
   "source": [
    "ham = []\n",
    "spam = []\n",
    "    # loop over xtrain and y train\n",
    "for i,val in y_train.items():\n",
    "    print(i,val)\n",
    "    index = i\n",
    "    if val == 0:\n",
    "        ham.append(X_train.loc[i])\n",
    "    else:\n",
    "        spam.append(X_train.loc[i])\n",
    "print(ham)"
   ]
  },
  {
   "cell_type": "code",
   "execution_count": 46,
   "id": "87437599-125d-4863-b5c0-7cb52a051ea1",
   "metadata": {},
   "outputs": [],
   "source": [
    "def count_frequency(documents):\n",
    "    \"\"\"\n",
    "    count occurrence of each word in the document set.\n",
    "    Inputs:\n",
    "    - documents: list, each entity is a string type SMS message\n",
    "    Outputs:\n",
    "    - frequency: a dictionary. The key is the unique words, and the value is the number of occurrences of the word\n",
    "    \n",
    "    \"\"\"\n",
    "\n",
    "    # *****START OF YOUR CODE (DO NOT DELETE/MODIFY THIS LINE)*****\n",
    "    # Step 1: covert all strings into their lower case form\n",
    "    lower_case_doc = []\n",
    "    for s in documents:\n",
    "        lower_case_doc.append(s.lower())\n",
    "        \n",
    "    # Step 2: remove all punctuations\n",
    "    no_punc_doc = []\n",
    "    for s in lower_case_doc:\n",
    "        no_punc_doc.append(s.translate(str.maketrans('','',string.punctuation)))\n",
    "     \n",
    "    # Step 3: tokenize a sentence, i.e., split a sentence into individual words \n",
    "    # using a delimiter. The delimiter specifies what character we will use to identify the beginning \n",
    "    # and the end of a word.\n",
    "    words_doc = []\n",
    "    for s in no_punc_doc:\n",
    "        words_doc.append(s.split(' '))\n",
    "        \n",
    "    # Step 4: count frequencies. To count the occurrence of each word in the document set. \n",
    "    # We can use the `Counter` method from the Python `collections` library for this purpose. \n",
    "    # `Counter` counts the occurrence of each item in the list and returns a dictionary with \n",
    "    # the key as the item being counted and the corresponding value being the count of that item in the list. \n",
    "    all_words = []\n",
    "    for s in words_doc:\n",
    "        all_words.extend(s)\n",
    "\n",
    "    frequency = Counter(all_words)\n",
    "        \n",
    "    # *****END OF YOUR CODE (DO NOT DELETE/MODIFY THIS LINE)*****\n",
    "    return frequency\n",
    "\n"
   ]
  },
  {
   "cell_type": "code",
   "execution_count": 68,
   "id": "f73ad984-b34d-47d4-9006-59e411fccfa0",
   "metadata": {},
   "outputs": [
    {
     "name": "stdout",
     "output_type": "stream",
     "text": [
      "['Hello, how are you!', 'Hello, Call hello you tomorrow?']\n",
      "Counter({'hello': 3, 'you': 2, 'how': 1, 'are': 1, 'call': 1, 'tomorrow': 1})\n"
     ]
    }
   ],
   "source": [
    "# test using freq function\n",
    "import numpy as np\n",
    "\n",
    "x_train = ['Hello, how are you!',\n",
    "           'Win money, win from home.',\n",
    "            'Call me now.',\n",
    "            'Hello, Call hello you tomorrow?']\n",
    "y_train = np.array([0,1,1,0])\n",
    "\n",
    "num_train = len(x_train)\n",
    "\n",
    "\n",
    "ham = []\n",
    "spam = []\n",
    "for i in range(num_train):\n",
    "    if y_train[i] == 0:\n",
    "        ham.append(x_train[i])\n",
    "    else:\n",
    "        spam.append(x_train[i])\n",
    "        \n",
    "print(ham)\n",
    "\n",
    "freq_ham = count_frequency(ham)\n",
    "\n",
    "freq_spam = count_frequency(spam)\n",
    "\n",
    "print(freq_ham)"
   ]
  },
  {
   "cell_type": "code",
   "execution_count": 76,
   "id": "e46b7e38-73c0-4ebe-959a-cefcccaa4e04",
   "metadata": {},
   "outputs": [
    {
     "name": "stdout",
     "output_type": "stream",
     "text": [
      "{0: {'hello': 0.5, 'how': 0.16666666666666666, 'are': 0.16666666666666666, 'you': 0.3333333333333333, 'call': 0.16666666666666666, 'tomorrow': 0.16666666666666666, 'dummy': 0.16666666666666666}, 1: {'win': 0.3333333333333333, 'money': 0.16666666666666666, 'from': 0.16666666666666666, 'home': 0.16666666666666666, 'call': 0.16666666666666666, 'me': 0.16666666666666666, 'now': 0.16666666666666666}}\n"
     ]
    }
   ],
   "source": [
    "count_all = len(freq_ham)\n",
    "label_dict = {0: {} , 1: {}} \n",
    "\n",
    "# add 0 labels\n",
    "for key in freq_ham:\n",
    "    count_x = freq_ham[key]\n",
    "    label_dict[0][key] = count_x / count_all\n",
    "    \n",
    "label_dict[0]['dummy'] = 1/count_all\n",
    "    \n",
    "# add 1 labels\n",
    "for key in freq_spam:\n",
    "    count_x = freq_spam[key]\n",
    "    label_dict[1][key] = count_x / count_all   \n",
    "   \n",
    "    \n",
    "print(label_dict)"
   ]
  },
  {
   "cell_type": "code",
   "execution_count": null,
   "id": "4ea85eaa-b5ae-4648-98d4-713f78f532a6",
   "metadata": {},
   "outputs": [],
   "source": [
    "from scipy.special import softmax\n",
    "def predict_label(X_test, prior_prob, cond_prob):\n",
    "    \"\"\"\n",
    "    predict the class labels for the testing set\n",
    "    Inputs:\n",
    "    - X_test: an array of shape (num_test,) which stores test data. \n",
    "              Each entity is a string type SMS message.\n",
    "    - prior_prob: a dictionary which stores the prior probability for all categories\n",
    "              We previously used \"prior_prob\" as the name of function.  \n",
    "              Here it is used as a dictionary name.  No confusion should arise.\n",
    "    - cond_prob: a dictionary whose key is the class label y, and value is another dictionary.\n",
    "                   In the latter dictionary, the key is word w, and the value is the\n",
    "                   conditional probability P(X_i = w | y).\n",
    "    Outputs:\n",
    "    - predict: an array that stores predicted labels\n",
    "    - test_prob: an array of shape (num_test, num_classes) which stores the posterior probability of each class\n",
    "    \"\"\"\n",
    "\n",
    "    # *****START OF YOUR CODE (DO NOT DELETE/MODIFY THIS LINE)*****\n",
    "    # initialize variables\n",
    "    num_test = len(X_test)\n",
    "    num_class = len(prior_prob)\n",
    "    # empty list to hold test probs calculated each index is a class\n",
    "    log_prob = np.empty((num_test, num_class))\n",
    " \n",
    "    \n",
    "    # predict label\n",
    "    # iterate over all entries in X_test \n",
    "    for i in range(num_test):\n",
    "        # find word count of specific text example\n",
    "        word_count = count_frequency(X_test[i])\n",
    "        # compute conditional probability for j classes\n",
    "        for j in range(num_class):\n",
    "            # calculate sum of log probabilities\n",
    "            log_prob[i][j] = math.log(prior_prob['j']) + \n",
    "            math.log(compute_test_prob(word_count, prior_prob['j'],cond_prob[j]))\n",
    "                   \n",
    "    # predict is argmax of each row of log_prob\n",
    "    predict = np.argmax(log_prob, axis=1)\n",
    "            \n",
    "    # calculate posterior probability, subtract predict for computational ease\n",
    "    test_prob = softmax(log_prob - predict)\n",
    "    \n",
    "    # *****END OF YOUR CODE (DO NOT DELETE/MODIFY THIS LINE)*****\n",
    "    return predict, test_prob\n"
   ]
  },
  {
   "cell_type": "code",
   "execution_count": 78,
   "id": "5e506b37-7412-467c-8197-1e1d9b502de0",
   "metadata": {},
   "outputs": [],
   "source": [
    "# unit test case:\n",
    "# x_test = np.array(['Hello, how are you!'])\n",
    "# sample outputs:\n",
    "# y_pred: [0] \n",
    "# test_prob: [[0.97958684 0.02041316]]\n",
    "\n",
    "\n",
    "def compute_test_prob(word_count, prior_cat, cond_cat):\n",
    "    \"\"\"\n",
    "    predict the class label for one test example\n",
    "    Inputs:\n",
    "    - word_count: a dictionary which stores the frequencies of each word in a SMS message. \n",
    "                  Key is the word, value is the number of its occurrence in that message\n",
    "    - prior_cat: a scalar. prior probability of a specific category\n",
    "    - cond_cat: a dictionary. conditional probability of a specific category\n",
    "    Outputs:\n",
    "    - prob: discriminant value g_y of a specific category for the test example \n",
    "                  (no need of normalization, i.e., not exactly the posterior probability)\n",
    "    \"\"\"\n",
    "    # *****START OF YOUR CODE (DO NOT DELETE/MODIFY THIS LINE)*****\n",
    "    #initialize conditional probability  \n",
    "    cond_prob = 1\n",
    "    # fetch cond prob of each word in i of x_test from cond prob dict\n",
    "    for key,val in word_count:\n",
    "        if key in cond_cat:\n",
    "            cond_prob = cond_prob * (val * cond_cat['key'])\n",
    "        else:\n",
    "            cond_prob = cond_prob * (val * cond_cat['dummy'])\n",
    "     \n",
    "    prob = prior_cat * cond_prob\n",
    "    \n",
    "    # *****END OF YOUR CODE (DO NOT DELETE/MODIFY THIS LINE)*****\n",
    "    return prob \n",
    "    \n"
   ]
  },
  {
   "cell_type": "code",
   "execution_count": 84,
   "id": "ddf134c1-b80d-46e4-8ff2-2145a38d7c2f",
   "metadata": {},
   "outputs": [
    {
     "name": "stdout",
     "output_type": "stream",
     "text": [
      "[9 9]\n"
     ]
    }
   ],
   "source": [
    "print(np.full((2, ), 9))\n",
    "\n"
   ]
  }
 ],
 "metadata": {
  "kernelspec": {
   "display_name": "Python 3 (ipykernel)",
   "language": "python",
   "name": "python3"
  },
  "language_info": {
   "codemirror_mode": {
    "name": "ipython",
    "version": 3
   },
   "file_extension": ".py",
   "mimetype": "text/x-python",
   "name": "python",
   "nbconvert_exporter": "python",
   "pygments_lexer": "ipython3",
   "version": "3.9.12"
  }
 },
 "nbformat": 4,
 "nbformat_minor": 5
}
